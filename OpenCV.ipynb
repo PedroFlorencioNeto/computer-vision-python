{
 "cells": [
  {
   "cell_type": "markdown",
   "metadata": {},
   "source": [
    "---\n",
    "<h4 align=\"center\"> <div style=\"margin: 0px\"> <b> <br> Uso da framework OpenCV no Python<br><br></b> </div> </h4>\n",
    "Este notebook tem como objetivo realizar uma inicialização aos principais comandos da biblioteca OpenCV no Python, amplamente utilizada para o tratamento de imagens e integração com outros sistemas da área de Visão Computacional.\n",
    "\n",
    "\n",
    "Autor: Pedro Florencio de Almeida Neto\n",
    "\n",
    "---"
   ]
  },
  {
   "cell_type": "markdown",
   "metadata": {},
   "source": [
    "##### <b>Parte 1: Carregamento de Dados</b>\n",
    "\n",
    "Esta etapa demonstra as formas de carregamento de imagens e vídeos utilizando o OpenCV."
   ]
  },
  {
   "cell_type": "markdown",
   "metadata": {},
   "source": [
    "<b>1.1 Importação da biblioteca</b>"
   ]
  },
  {
   "cell_type": "code",
   "execution_count": 1,
   "metadata": {},
   "outputs": [],
   "source": [
    "import cv2 "
   ]
  },
  {
   "cell_type": "markdown",
   "metadata": {},
   "source": [
    "<b>1.2 Carregamento de imagens</b>"
   ]
  },
  {
   "cell_type": "code",
   "execution_count": 2,
   "metadata": {},
   "outputs": [
    {
     "name": "stderr",
     "output_type": "stream",
     "text": [
      "Qt: Session management error: Could not open network socket\n"
     ]
    }
   ],
   "source": [
    "# Carrega a imagem a partir de um arquivo\n",
    "img = cv2.imread('assets/michaelscott.jpg') \n",
    "\n",
    "# Mostra a imagem na tela com o nome \"Michael Scott\"\n",
    "cv2.imshow('Michael Scott', img) \n",
    "\n",
    "# Tempo de exibição da imagem em ms (0 siginifica infinito) \n",
    "cv2.waitKey(0)"
   ]
  },
  {
   "cell_type": "markdown",
   "metadata": {},
   "source": [
    "<b>1.3 Carregamento de vídeos</b>"
   ]
  },
  {
   "cell_type": "markdown",
   "metadata": {},
   "source": [
    "O método VideoCapture da OpenCV permite o carregamento do vídeo e o método read() retorna um booleano que informa se a leitura foi bem sucedida além dos frames do vídeo."
   ]
  },
  {
   "cell_type": "code",
   "execution_count": 4,
   "metadata": {},
   "outputs": [],
   "source": [
    "# Carrega o vídeo a partir de um arquivo\n",
    "cap = cv2.VideoCapture('assets/michaelscott.mp4')\n",
    "\n",
    "# Estrutura de repetição que reproduz cada frame\n",
    "while True:\n",
    "    success, frame = cap.read()\n",
    "    cv2.imshow('No God No!', frame)\n",
    "    # Critério de parada é a tecla q\n",
    "    if cv2.waitKey(1) & 0xFF == ord('q'):\n",
    "        break\n",
    "\n",
    "# Fechar arquivo de vídeo\n",
    "cap.release()\n",
    "\n",
    "# Fechar as janelas abertas\n",
    "cv2.destroyAllWindows()"
   ]
  },
  {
   "cell_type": "markdown",
   "metadata": {},
   "source": [
    "<b>1.4 Captura com a webcam</b>"
   ]
  },
  {
   "cell_type": "markdown",
   "metadata": {},
   "source": [
    "Há uma única alteração fundamental com relação ao código anterior: o valor do parâmetro no método VideoCapture."
   ]
  },
  {
   "cell_type": "code",
   "execution_count": 2,
   "metadata": {},
   "outputs": [],
   "source": [
    "# Inicializa a webcam. O valor 0 é utilizado quando há uma única webcam conectada\n",
    "cap = cv2.VideoCapture(0)\n",
    "\n",
    "# Tamanho  da janela. O valor 3 se refere à width e 4 se refere à height\n",
    "cap.set(3,640) \n",
    "cap.set(4,480)\n",
    "\n",
    "# Ajuste do brilho\n",
    "cap.set(10,100)\n",
    "\n",
    "# Estrutura de repetição que reproduz cada frame\n",
    "while True:\n",
    "    success, frame = cap.read()\n",
    "    cv2.imshow('Janela Webcam', frame)\n",
    "    # Critério de parada é a tecla q\n",
    "    if cv2.waitKey(1) & 0xFF == ord('q'):\n",
    "        break\n",
    "\n",
    "# Fechar arquivo de vídeo\n",
    "cap.release()\n",
    "\n",
    "# Fechar as janelas abertas\n",
    "cv2.destroyAllWindows()"
   ]
  },
  {
   "cell_type": "markdown",
   "metadata": {},
   "source": [
    "---\n",
    "##### <b>Parte 2: Funções Básicas</b>"
   ]
  },
  {
   "cell_type": "markdown",
   "metadata": {},
   "source": [
    "Converter uma imagem para preto e branco"
   ]
  },
  {
   "cell_type": "code",
   "execution_count": 3,
   "metadata": {},
   "outputs": [
    {
     "name": "stderr",
     "output_type": "stream",
     "text": [
      "Qt: Session management error: Could not open network socket\n"
     ]
    }
   ],
   "source": [
    "img = cv2.imread('assets/michaelscott.jpg')\n",
    "\n",
    "# cvtColor converte a imagem em diferentes espaços de cor. O padrão da OpenCV é usar canais BGR e não RGB.\n",
    "imgGray = cv2.cvtColor(img,cv2.COLOR_BGR2GRAY)\n",
    "\n",
    "cv2.imshow(\"Preto e Branco\", imgGray)\n",
    "\n",
    "cv2.waitKey(0)"
   ]
  },
  {
   "cell_type": "markdown",
   "metadata": {},
   "source": [
    "Aplicar filtro <i>blur</i> na imagem"
   ]
  },
  {
   "cell_type": "code",
   "execution_count": 2,
   "metadata": {},
   "outputs": [
    {
     "name": "stderr",
     "output_type": "stream",
     "text": [
      "Qt: Session management error: Could not open network socket\n"
     ]
    }
   ],
   "source": [
    "img = cv2.imread('assets/michaelscott.jpg')\n",
    "\n",
    "imgBlur = cv2.GaussianBlur(img, (7,7),0)\n",
    "\n",
    "cv2.imshow(\"Blur\", imgBlur)\n",
    "\n",
    "cv2.waitKey(0)"
   ]
  },
  {
   "cell_type": "markdown",
   "metadata": {},
   "source": [
    "Detecção de borda\n",
    "\n",
    "\"Detecção de borda é uma técnica de processamento de imagem e visão computacional para determinar pontos de uma imagem digital em que a intensidade luminosa muda repentinamente\". <i>Wikipedia</i>"
   ]
  },
  {
   "cell_type": "code",
   "execution_count": 2,
   "metadata": {},
   "outputs": [
    {
     "name": "stderr",
     "output_type": "stream",
     "text": [
      "Qt: Session management error: Could not open network socket\n"
     ]
    }
   ],
   "source": [
    "img = cv2.imread('assets/michaelscott.jpg')\n",
    "\n",
    "# segundo e terceiro parâmetros são o threshold\n",
    "imgCanny = cv2.Canny(img,100,100)\n",
    "\n",
    "cv2.imshow(\"Canny\", imgCanny)\n",
    "\n",
    "cv2.waitKey(0)"
   ]
  },
  {
   "cell_type": "markdown",
   "metadata": {},
   "source": [
    "Pode-se usar os métodos Dialation e Erode para, respectivamente, reforçar ou suavizar as bordas. \n",
    "Primeiro cria-se um kernel, isto é uma matriz que será utilizada como filtro nestas funções."
   ]
  },
  {
   "cell_type": "code",
   "execution_count": 2,
   "metadata": {},
   "outputs": [
    {
     "name": "stderr",
     "output_type": "stream",
     "text": [
      "Qt: Session management error: Could not open network socket\n"
     ]
    }
   ],
   "source": [
    "import numpy as np\n",
    "\n",
    "kernel = np.ones((5,5), np.uint8)\n",
    "\n",
    "img = cv2.imread('assets/michaelscott.jpg')\n",
    "\n",
    "imgCanny = cv2.Canny(img,100,100)\n",
    "\n",
    "imgDialation = cv2.dilate(imgCanny, kernel, iterations=1)\n",
    "\n",
    "cv2.imshow(\"Dialation\", imgDialation)\n",
    "\n",
    "cv2.waitKey(0)"
   ]
  },
  {
   "cell_type": "code",
   "execution_count": 2,
   "metadata": {},
   "outputs": [
    {
     "name": "stderr",
     "output_type": "stream",
     "text": [
      "Qt: Session management error: Could not open network socket\n"
     ]
    }
   ],
   "source": [
    "import numpy as np\n",
    "\n",
    "# Filtro\n",
    "kernel = np.ones((5,5), np.uint8)\n",
    "\n",
    "# Imagem\n",
    "img = cv2.imread('assets/michaelscott.jpg')\n",
    "\n",
    "# Detecção de borda Canny\n",
    "imgCanny = cv2.Canny(img,100,100)\n",
    "\n",
    "imgEroded= cv2.erode(imgCanny, kernel, iterations=1)\n",
    "\n",
    "cv2.imshow(\"Erode\", imgEroded)\n",
    "\n",
    "cv2.waitKey(0)"
   ]
  },
  {
   "cell_type": "markdown",
   "metadata": {},
   "source": [
    "---\n",
    "##### <b>Parte 3: Redimensionamento e Corte da Imagem</b>"
   ]
  },
  {
   "cell_type": "code",
   "execution_count": 1,
   "metadata": {},
   "outputs": [
    {
     "name": "stdout",
     "output_type": "stream",
     "text": [
      "Tamanho da imagem original: (490, 760, 3)\n",
      "Tamanho da imagem redimensionada: (200, 200, 3)\n"
     ]
    },
    {
     "name": "stderr",
     "output_type": "stream",
     "text": [
      "Qt: Session management error: Could not open network socket\n"
     ]
    }
   ],
   "source": [
    "import cv2\n",
    "\n",
    "# Aquisição da imagem\n",
    "img = cv2.imread(\"assets/michaelscott.jpg\")\n",
    "\n",
    "# Tamanho da imagem original\n",
    "size = img.shape\n",
    "\n",
    "# Método para redimensionamento\n",
    "imgResize = cv2.resize(img,(200,200))\n",
    "\n",
    "print('Tamanho da imagem original: {}'.format(size))\n",
    "\n",
    "print('Tamanho da imagem redimensionada: {}'.format(imgResize.shape))\n",
    "\n",
    "cv2.imshow(\"Redimensionada\", imgResize)\n",
    "\n",
    "cv2.waitKey(0)"
   ]
  },
  {
   "cell_type": "code",
   "execution_count": null,
   "metadata": {},
   "outputs": [],
   "source": []
  }
 ],
 "metadata": {
  "interpreter": {
   "hash": "554677ffb689866ae8f77f3e610b3a6fc4033c08b9b0ccbb6ca8f6d90d83e85c"
  },
  "kernelspec": {
   "display_name": "Python 3.8.10 64-bit ('venv-3.8.10')",
   "language": "python",
   "name": "python3"
  },
  "language_info": {
   "codemirror_mode": {
    "name": "ipython",
    "version": 3
   },
   "file_extension": ".py",
   "mimetype": "text/x-python",
   "name": "python",
   "nbconvert_exporter": "python",
   "pygments_lexer": "ipython3",
   "version": "3.8.10"
  },
  "orig_nbformat": 4
 },
 "nbformat": 4,
 "nbformat_minor": 2
}
