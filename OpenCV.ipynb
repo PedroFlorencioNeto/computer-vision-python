{
 "cells": [
  {
   "cell_type": "markdown",
   "metadata": {},
   "source": [
    "---\n",
    "<h4 align=\"center\"> <div style=\"margin: 0px\"> <b> <br> Uso da framework OpenCV no Python<br><br></b> </div> </h4>\n",
    "Este notebook tem como objetivo realizar uma inicialização aos principais comandos da biblioteca OpenCV no Python, amplamente utilizada para o tratamento de imagens e integração com outros sistemas da área de Visão Computacional.\n",
    "\n",
    "\n",
    "Autor: Pedro Florencio de Almeida Neto\n",
    "\n",
    "---"
   ]
  },
  {
   "cell_type": "markdown",
   "metadata": {},
   "source": [
    "<b>1. Importação da biblioteca</b>"
   ]
  },
  {
   "cell_type": "code",
   "execution_count": 9,
   "metadata": {},
   "outputs": [],
   "source": [
    "import cv2 "
   ]
  },
  {
   "cell_type": "markdown",
   "metadata": {},
   "source": [
    "<b>2. Leitura de imagens</b>"
   ]
  },
  {
   "cell_type": "code",
   "execution_count": null,
   "metadata": {},
   "outputs": [],
   "source": []
  }
 ],
 "metadata": {
  "interpreter": {
   "hash": "554677ffb689866ae8f77f3e610b3a6fc4033c08b9b0ccbb6ca8f6d90d83e85c"
  },
  "kernelspec": {
   "display_name": "Python 3.8.10 64-bit ('venv-3.8.10')",
   "language": "python",
   "name": "python3"
  },
  "language_info": {
   "codemirror_mode": {
    "name": "ipython",
    "version": 3
   },
   "file_extension": ".py",
   "mimetype": "text/x-python",
   "name": "python",
   "nbconvert_exporter": "python",
   "pygments_lexer": "ipython3",
   "version": "3.8.10"
  },
  "orig_nbformat": 4
 },
 "nbformat": 4,
 "nbformat_minor": 2
}
